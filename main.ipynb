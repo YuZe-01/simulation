{
 "cells": [
  {
   "cell_type": "code",
   "execution_count": 1,
   "id": "21ee4933",
   "metadata": {},
   "outputs": [
    {
     "name": "stdout",
     "output_type": "stream",
     "text": [
      "begin\n",
      "init_pop finish\n",
      "迭代次数0完成\n",
      "迭代次数1完成\n",
      "迭代次数2完成\n",
      "迭代次数3完成\n",
      "迭代次数4完成\n",
      "迭代次数5完成\n",
      "迭代次数6完成\n",
      "迭代次数7完成\n",
      "迭代次数8完成\n",
      "迭代次数9完成\n",
      "finish\n"
     ]
    }
   ],
   "source": [
    "import tvb_simulation\n",
    "import numpy as np\n",
    "import multiprocessing\n",
    "import time as t\n",
    "from optimization_strategy import stepwise_fit\n",
    "from PSO import PSO_model\n",
    "import sys\n",
    "\n",
    "def step_wise_function():\n",
    "    G_bounds = [-100.0,100.0]\n",
    "    w_p_bounds = [-100.0,100.0]\n",
    "    lamda_bounds = [-100.0,100.0]\n",
    "\n",
    "    G_init = -2.0\n",
    "    w_p_init = 1.0\n",
    "    lamda_init = 1.0\n",
    "    \n",
    "    _G = np.linspace(G_bounds[0], G_bounds[1],5)\n",
    "    _w_p = np.linspace(w_p_bounds[0],w_p_bounds[1],5)\n",
    "    _lamda = np.linspace(lamda_bounds[0],lamda_bounds[1],5)\n",
    "\n",
    "    param_ranges = {'G': _G, 'w_p': _w_p, 'lamda': _lamda}\n",
    "    order = ['G', 'w_p', 'lamda']\n",
    "    inits = {'G': G_init, 'w_p': w_p_init, 'lamda': lamda_init}\n",
    "    \n",
    "    sf = stepwise_fit(param_ranges, order, inits, sim_len=10.0)\n",
    "    sf.run()\n",
    "\n",
    "def PSO_function():\n",
    "    # w,c1,c2,r1,r2,N,D,M参数初始化\n",
    "    w=[0.4, 2]\n",
    "    c1=c2=2#一般设置为2\n",
    "    r1=0.7\n",
    "    r2=0.5\n",
    "    N=20\n",
    "    D=3\n",
    "    M=10\n",
    "    pso_object=PSO_model(w,c1,c2,r1,r2,N,D,M)#设置初始权值\n",
    "    pso_object.init_pop()\n",
    "    pso_object.update()\n",
    "    \n",
    "if __name__ == \"__main__\":\n",
    "    print(\"begin\")\n",
    "    default = sys.stdout\n",
    "    PSO_function()\n",
    "    sys.stdout = default\n",
    "    print(\"finish\")"
   ]
  },
  {
   "cell_type": "code",
   "execution_count": null,
   "id": "fc9ce423",
   "metadata": {},
   "outputs": [],
   "source": []
  }
 ],
 "metadata": {
  "kernelspec": {
   "display_name": "Python 3 (ipykernel)",
   "language": "python",
   "name": "python3"
  },
  "language_info": {
   "codemirror_mode": {
    "name": "ipython",
    "version": 3
   },
   "file_extension": ".py",
   "mimetype": "text/x-python",
   "name": "python",
   "nbconvert_exporter": "python",
   "pygments_lexer": "ipython3",
   "version": "3.10.8"
  }
 },
 "nbformat": 4,
 "nbformat_minor": 5
}
